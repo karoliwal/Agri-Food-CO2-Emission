{
 "cells": [
  {
   "cell_type": "code",
   "execution_count": 1,
   "metadata": {},
   "outputs": [],
   "source": [
    "import pandas as pd\n",
    "import numpy as np\n",
    "from sklearn.model_selection import train_test_split\n",
    "from sklearn.impute import SimpleImputer\n",
    "from sklearn.decomposition import PCA\n",
    "import tensorflow as tf\n",
    "from keras.models import Sequential\n",
    "from keras.layers import Dense,LSTM,Dropout"
   ]
  },
  {
   "cell_type": "code",
   "execution_count": 2,
   "metadata": {},
   "outputs": [],
   "source": [
    "data = pd.read_csv(\"Agrofood_co2_emission.csv\")\n",
    "data = data[data['Area'] == \"India\"]\n",
    "data.drop(['Area'], axis=1, inplace=True)\n",
    "data.set_index('Year', inplace=True)\n",
    "columns=data.columns"
   ]
  },
  {
   "cell_type": "code",
   "execution_count": 3,
   "metadata": {},
   "outputs": [],
   "source": [
    "from sklearn.preprocessing import MinMaxScaler\n",
    "scaler = MinMaxScaler()\n",
    "data = scaler.fit_transform(data)\n",
    "data = pd.DataFrame(data)\n"
   ]
  },
  {
   "cell_type": "code",
   "execution_count": 4,
   "metadata": {},
   "outputs": [],
   "source": [
    "imp = SimpleImputer(strategy='mean')\n",
    "data = imp.fit_transform(data)\n",
    "data = pd.DataFrame(data, columns=columns)"
   ]
  },
  {
   "cell_type": "code",
   "execution_count": 5,
   "metadata": {},
   "outputs": [],
   "source": [
    "y = data['total_emission']\n",
    "X = data.drop(['total_emission'],axis=1)"
   ]
  },
  {
   "cell_type": "code",
   "execution_count": 6,
   "metadata": {},
   "outputs": [],
   "source": [
    "def prin(i, X):\n",
    "    pca = PCA(n_components=i)\n",
    "    X = pca.fit_transform(X)\n",
    "    X = pd.DataFrame(X)\n",
    "    return X"
   ]
  },
  {
   "cell_type": "code",
   "execution_count": 15,
   "metadata": {},
   "outputs": [],
   "source": [
    "lossList = []\n",
    "def mm(Xnew):\n",
    "    model = Sequential()\n",
    "    model.add(LSTM(128,return_sequences=True,activation='relu',input_shape=(Xnew.shape[1],1)))\n",
    "    model.add(Dense(1))\n",
    "    model.compile(loss='mean_squared_error',optimizer='adam')\n",
    "    X_train, X_test, y_train, y_test = train_test_split(Xnew,y, test_size=.20,random_state=0)\n",
    "    X_train=np.array(X_train)\n",
    "    y_train=np.array(y_train)\n",
    "    X_train=np.reshape(X_train,(X_train.shape[0],X_train.shape[1],1))\n",
    "    X_train = tf.constant(X_train, dtype = tf.float64)\n",
    "    model.fit(X_train,y_train,verbose=0,epochs=25,batch_size=128)\n",
    "    losses=model.history.history\n",
    "    return losses\n",
    "    # print(losses['loss'][-1])"
   ]
  },
  {
   "cell_type": "code",
   "execution_count": 16,
   "metadata": {},
   "outputs": [
    {
     "data": {
      "text/plain": [
       "<Axes: >"
      ]
     },
     "execution_count": 16,
     "metadata": {},
     "output_type": "execute_result"
    },
    {
     "data": {
      "image/png": "[encoded data removed]",
      "text/plain": [
       "<Figure size 640x480 with 1 Axes>"
      ]
     },
     "metadata": {},
     "output_type": "display_data"
    }
   ],
   "source": [
    "Xnew = prin(13, X)\n",
    "l = mm(Xnew)\n",
    "l = pd.DataFrame(l)\n",
    "l.plot()"
   ]
  },
  {
   "cell_type": "code",
   "execution_count": 8,
   "metadata": {},
   "outputs": [
    {
     "data": {
      "text/plain": [
       "(31, 28)"
      ]
     },
     "execution_count": 8,
     "metadata": {},
     "output_type": "execute_result"
    }
   ],
   "source": [
    "X.shape"
   ]
  },
  {
   "cell_type": "code",
   "execution_count": 9,
   "metadata": {},
   "outputs": [
    {
     "name": "stdout",
     "output_type": "stream",
     "text": [
      "0.32490774989128113\n",
      "0.2880176305770874\n",
      "0.26293909549713135\n",
      "0.25559982657432556\n",
      "0.2511110007762909\n",
      "0.2253314107656479\n",
      "0.2555989623069763\n",
      "0.23372673988342285\n",
      "0.2243293970823288\n",
      "0.24880170822143555\n",
      "0.24296434223651886\n",
      "0.22825537621974945\n",
      "0.21270400285720825\n",
      "0.21674291789531708\n",
      "0.20672430098056793\n",
      "0.23291563987731934\n",
      "0.24001868069171906\n",
      "0.21018655598163605\n",
      "0.20346903800964355\n",
      "0.23478908836841583\n",
      "0.20489810407161713\n",
      "0.2460450679063797\n",
      "0.21260763704776764\n",
      "0.21707899868488312\n",
      "0.20481747388839722\n",
      "0.2242531031370163\n",
      "0.2207348793745041\n"
     ]
    }
   ],
   "source": [
    "for i in range(1,28):\n",
    "    Xnew = prin(i, X)\n",
    "    mm(Xnew)"
   ]
  },
  {
   "cell_type": "code",
   "execution_count": 10,
   "metadata": {},
   "outputs": [
    {
     "data": {
      "text/plain": [
       "[]"
      ]
     },
     "execution_count": 10,
     "metadata": {},
     "output_type": "execute_result"
    }
   ],
   "source": [
    "lossList"
   ]
  }
 ],
 "metadata": {
  "kernelspec": {
   "display_name": "Python 3",
   "language": "python",
   "name": "python3"
  },
  "language_info": {
   "codemirror_mode": {
    "name": "ipython",
    "version": 3
   },
   "file_extension": ".py",
   "mimetype": "text/x-python",
   "name": "python",
   "nbconvert_exporter": "python",
   "pygments_lexer": "ipython3",
   "version": "3.11.3"
  },
  "orig_nbformat": 4
 },
 "nbformat": 4,
 "nbformat_minor": 2
}
