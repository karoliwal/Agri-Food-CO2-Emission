{
  "nbformat": 4,
  "nbformat_minor": 0,
  "metadata": {
    "colab": {
      "provenance": [],
      "authorship_tag": "ABX9TyO6W2LcvzZLEUREveanE2lT"
    },
    "kernelspec": {
      "name": "python3",
      "display_name": "Python 3"
    },
    "language_info": {
      "name": "python"
    }
  },
  "cells": [
    {
      "cell_type": "code",
      "execution_count": null,
      "metadata": {
        "id": "nCDpsFR33zh7"
      },
      "outputs": [],
      "source": [
        "import pandas as pd\n",
        "import numpy as np\n",
        "import matplotlib.pyplot as plt\n",
        "from sklearn.model_selection import train_test_split\n",
        "from sklearn.impute import SimpleImputer\n",
        "from sklearn.decomposition import PCA"
      ]
    },
    {
      "cell_type": "code",
      "source": [
        "data = pd.read_csv(\"Agrofood_co2_emission.csv\")\n",
        "data = data[data['Area'] == \"India\"]\n",
        "data.drop(['Area'], axis=1, inplace=True)\n",
        "data.set_index('Year', inplace=True)\n",
        "columns=data.columns"
      ],
      "metadata": {
        "id": "kyb5XM-84MiD"
      },
      "execution_count": null,
      "outputs": []
    },
    {
      "cell_type": "code",
      "source": [
        "from sklearn.preprocessing import MinMaxScaler\n",
        "scaler = MinMaxScaler()\n",
        "data = scaler.fit_transform(data)\n",
        "data = pd.DataFrame(data)"
      ],
      "metadata": {
        "id": "lasveCs54rYb"
      },
      "execution_count": null,
      "outputs": []
    },
    {
      "cell_type": "code",
      "source": [
        "imp = SimpleImputer(strategy='mean')\n",
        "data = imp.fit_transform(data)\n",
        "data = pd.DataFrame(data, columns=columns)"
      ],
      "metadata": {
        "id": "W6smGgMY4ZGs"
      },
      "execution_count": null,
      "outputs": []
    },
    {
      "cell_type": "code",
      "source": [
        "y = data['total_emission']\n",
        "X = data.drop(['total_emission'],axis=1)"
      ],
      "metadata": {
        "id": "s7w8hmNH45us"
      },
      "execution_count": null,
      "outputs": []
    },
    {
      "cell_type": "code",
      "source": [
        "X_train, X_test, y_train, y_test = train_test_split(X,y, test_size=.33,random_state=0)"
      ],
      "metadata": {
        "id": "i0Kbk_AW47lN"
      },
      "execution_count": null,
      "outputs": []
    },
    {
      "cell_type": "code",
      "source": [
        "X_train=X_train.to_numpy()\n",
        "y_train=y_train.to_numpy()"
      ],
      "metadata": {
        "id": "whAGVFbI5rOY"
      },
      "execution_count": null,
      "outputs": []
    },
    {
      "cell_type": "code",
      "source": [
        "X_train = X_train.reshape(20, 4, 7)\n",
        "y_train = y_train.reshape(20,)"
      ],
      "metadata": {
        "id": "kV5y5y_g61gz"
      },
      "execution_count": null,
      "outputs": []
    },
    {
      "cell_type": "code",
      "source": [
        "import tensorflow as tf\n",
        "from tensorflow import keras"
      ],
      "metadata": {
        "id": "gQh_SYAs49WZ"
      },
      "execution_count": null,
      "outputs": []
    },
    {
      "cell_type": "code",
      "source": [
        "model = keras.Sequential()\n",
        "model.add(keras.layers.Input(shape=(4, 7)))\n",
        "model.add(keras.layers.GRU(32, return_sequences=True))\n",
        "model.add(keras.layers.GRU(16, return_sequences=False))\n",
        "model.add(keras.layers.Dense(1))\n",
        "model.compile(optimizer='adam', loss='mean_squared_error')\n",
        "model.fit(X_train, y_train, epochs=10, batch_size=8)"
      ],
      "metadata": {
        "colab": {
          "base_uri": "https://localhost:8080/"
        },
        "id": "55c2jQGb5BW7",
        "outputId": "6571be18-f0c9-4816-9809-3f59c7961e11"
      },
      "execution_count": null,
      "outputs": [
        {
          "output_type": "stream",
          "name": "stdout",
          "text": [
            "Epoch 1/10\n",
            "3/3 [==============================] - 4s 10ms/step - loss: 0.3168\n",
            "Epoch 2/10\n",
            "3/3 [==============================] - 0s 8ms/step - loss: 0.1598\n",
            "Epoch 3/10\n",
            "3/3 [==============================] - 0s 8ms/step - loss: 0.0791\n",
            "Epoch 4/10\n",
            "3/3 [==============================] - 0s 8ms/step - loss: 0.0344\n",
            "Epoch 5/10\n",
            "3/3 [==============================] - 0s 9ms/step - loss: 0.0296\n",
            "Epoch 6/10\n",
            "3/3 [==============================] - 0s 9ms/step - loss: 0.0384\n",
            "Epoch 7/10\n",
            "3/3 [==============================] - 0s 9ms/step - loss: 0.0427\n",
            "Epoch 8/10\n",
            "3/3 [==============================] - 0s 9ms/step - loss: 0.0364\n",
            "Epoch 9/10\n",
            "3/3 [==============================] - 0s 8ms/step - loss: 0.0273\n",
            "Epoch 10/10\n",
            "3/3 [==============================] - 0s 9ms/step - loss: 0.0205\n"
          ]
        },
        {
          "output_type": "execute_result",
          "data": {
            "text/plain": [
              "<keras.src.callbacks.History at 0x7a8e377d8340>"
            ]
          },
          "metadata": {},
          "execution_count": 89
        }
      ]
    }
  ]
}