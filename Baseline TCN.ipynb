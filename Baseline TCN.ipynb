{
  "nbformat": 4,
  "nbformat_minor": 0,
  "metadata": {
    "colab": {
      "provenance": [],
      "authorship_tag": "ABX9TyN4ysyKcp0rmxOw09jsvTlQ",
      "include_colab_link": true
    },
    "kernelspec": {
      "name": "python3",
      "display_name": "Python 3"
    },
    "language_info": {
      "name": "python"
    }
  },
  "cells": [
    {
      "cell_type": "markdown",
      "metadata": {
        "id": "view-in-github",
        "colab_type": "text"
      },
      "source": [
        "<a href=\"https://colab.research.google.com/github/karoliwal/Agri-Food-CO2-Emission/blob/main/Baseline%20TCN.ipynb\" target=\"_parent\"><img src=\"https://colab.research.google.com/assets/colab-badge.svg\" alt=\"Open In Colab\"/></a>"
      ]
    },
    {
      "cell_type": "code",
      "execution_count": 76,
      "metadata": {
        "colab": {
          "base_uri": "https://localhost:8080/"
        },
        "id": "vxSTEnPLIhV0",
        "outputId": "87f65633-c568-45b5-d6e6-0cbeb2e70175"
      },
      "outputs": [
        {
          "output_type": "stream",
          "name": "stdout",
          "text": [
            "Requirement already satisfied: keras-tcn in /usr/local/lib/python3.10/dist-packages (3.5.0)\n"
          ]
        }
      ],
      "source": [
        "!pip install keras-tcn --no-dependencies"
      ]
    },
    {
      "cell_type": "code",
      "source": [
        "from tcn import compiled_tcn"
      ],
      "metadata": {
        "id": "NV6kjY_zI-a9"
      },
      "execution_count": 77,
      "outputs": []
    },
    {
      "cell_type": "code",
      "source": [
        "import pandas as pd\n",
        "import numpy as np\n",
        "import matplotlib.pyplot as plt\n",
        "from sklearn.model_selection import train_test_split\n",
        "from sklearn.impute import SimpleImputer\n",
        "from sklearn.decomposition import PCA"
      ],
      "metadata": {
        "id": "_VQuEMvzI-7H"
      },
      "execution_count": 78,
      "outputs": []
    },
    {
      "cell_type": "code",
      "source": [
        "data = pd.read_csv(\"Agrofood_co2_emission.csv\")\n",
        "data = data[data['Area'] == \"India\"]\n",
        "data.drop(['Area'], axis=1, inplace=True)\n",
        "data.set_index('Year', inplace=True)\n",
        "columns=data.columns"
      ],
      "metadata": {
        "id": "z_udjBVTJBT1"
      },
      "execution_count": 79,
      "outputs": []
    },
    {
      "cell_type": "code",
      "source": [
        "from sklearn.preprocessing import MinMaxScaler\n",
        "scaler = MinMaxScaler()\n",
        "data = scaler.fit_transform(data)\n",
        "data = pd.DataFrame(data)"
      ],
      "metadata": {
        "id": "OxppEzBsJCMO"
      },
      "execution_count": 80,
      "outputs": []
    },
    {
      "cell_type": "code",
      "source": [
        "imp = SimpleImputer(strategy='mean')\n",
        "data = imp.fit_transform(data)\n",
        "data = pd.DataFrame(data, columns=columns)"
      ],
      "metadata": {
        "id": "No2YUfw5JDLW"
      },
      "execution_count": 81,
      "outputs": []
    },
    {
      "cell_type": "code",
      "source": [
        "y = data['total_emission']\n",
        "X = data.drop(['total_emission'],axis=1)"
      ],
      "metadata": {
        "id": "prGs5daxJEJT"
      },
      "execution_count": 82,
      "outputs": []
    },
    {
      "cell_type": "code",
      "source": [
        "X_train, X_test, y_train, y_test = train_test_split(X,y, test_size=.33,random_state=0)"
      ],
      "metadata": {
        "id": "eQ2p1XoEJFLp"
      },
      "execution_count": 83,
      "outputs": []
    },
    {
      "cell_type": "code",
      "source": [
        "X_train=X_train.to_numpy()\n",
        "y_train=y_train.to_numpy()"
      ],
      "metadata": {
        "id": "KAqh4O2xJF-a"
      },
      "execution_count": 84,
      "outputs": []
    },
    {
      "cell_type": "code",
      "source": [
        "X_train = X_train.reshape(20, 1, 28)\n",
        "y_train = y_train.reshape(20,)"
      ],
      "metadata": {
        "id": "r4qCKSQUJGzU"
      },
      "execution_count": 85,
      "outputs": []
    },
    {
      "cell_type": "code",
      "source": [
        "model = compiled_tcn(num_feat=28,\n",
        "                     num_classes=0,\n",
        "                     nb_filters=10,\n",
        "                     kernel_size=6,\n",
        "                     dilations=[3,6,9,12,15],\n",
        "                     nb_stacks=1,\n",
        "                     max_len=1,\n",
        "                     regression=True\n",
        "                     )\n",
        "model.fit(X_train, y_train, batch_size=64, epochs=10)"
      ],
      "metadata": {
        "colab": {
          "base_uri": "https://localhost:8080/"
        },
        "id": "4RtR01OAJHtn",
        "outputId": "a7ca1dd4-4f07-4382-fdcc-9f89c58d4b29"
      },
      "execution_count": 91,
      "outputs": [
        {
          "output_type": "stream",
          "name": "stderr",
          "text": [
            "WARNING:absl:`lr` is deprecated in Keras optimizer, please use `learning_rate` or use the legacy optimizer, e.g.,tf.keras.optimizers.legacy.Adam.\n"
          ]
        },
        {
          "output_type": "stream",
          "name": "stdout",
          "text": [
            "x.shape= (None, 1, 10)\n",
            "model.x = (None, 1, 28)\n",
            "model.y = (None, 1, 1)\n",
            "Epoch 1/10\n",
            "1/1 [==============================] - 37s 37s/step - loss: 0.4527\n",
            "Epoch 2/10\n",
            "1/1 [==============================] - 3s 3s/step - loss: 0.4001\n",
            "Epoch 3/10\n",
            "1/1 [==============================] - 2s 2s/step - loss: 0.3686\n",
            "Epoch 4/10\n",
            "1/1 [==============================] - 2s 2s/step - loss: 0.3218\n",
            "Epoch 5/10\n",
            "1/1 [==============================] - 2s 2s/step - loss: 0.2870\n",
            "Epoch 6/10\n",
            "1/1 [==============================] - 2s 2s/step - loss: 0.2433\n",
            "Epoch 7/10\n",
            "1/1 [==============================] - 3s 3s/step - loss: 0.2590\n",
            "Epoch 8/10\n",
            "1/1 [==============================] - 3s 3s/step - loss: 0.2206\n",
            "Epoch 9/10\n",
            "1/1 [==============================] - 2s 2s/step - loss: 0.2345\n",
            "Epoch 10/10\n",
            "1/1 [==============================] - 3s 3s/step - loss: 0.2302\n"
          ]
        },
        {
          "output_type": "execute_result",
          "data": {
            "text/plain": [
              "<keras.src.callbacks.History at 0x7dfbc1aac280>"
            ]
          },
          "metadata": {},
          "execution_count": 91
        }
      ]
    },
    {
      "cell_type": "code",
      "source": [
        "pred = model.predict(X_test.to_numpy().reshape(11,1,28))"
      ],
      "metadata": {
        "colab": {
          "base_uri": "https://localhost:8080/"
        },
        "id": "PDPoug0qRttU",
        "outputId": "cfe7da60-4a45-4cd3-e62b-88664799d702"
      },
      "execution_count": 92,
      "outputs": [
        {
          "output_type": "stream",
          "name": "stdout",
          "text": [
            "1/1 [==============================] - 1s 1s/step\n"
          ]
        }
      ]
    },
    {
      "cell_type": "code",
      "source": [
        "pred=pred.reshape(11,1)"
      ],
      "metadata": {
        "id": "GENK7QQnULgN"
      },
      "execution_count": 93,
      "outputs": []
    },
    {
      "cell_type": "code",
      "source": [
        "from sklearn.metrics import mean_squared_error\n",
        "mean_squared_error(y_pred=pred, y_true=y_test)"
      ],
      "metadata": {
        "colab": {
          "base_uri": "https://localhost:8080/"
        },
        "id": "pqt4JiE7L5u8",
        "outputId": "8cf4b794-7e79-4896-df03-24a5b2267a86"
      },
      "execution_count": 94,
      "outputs": [
        {
          "output_type": "execute_result",
          "data": {
            "text/plain": [
              "0.2579158076904659"
            ]
          },
          "metadata": {},
          "execution_count": 94
        }
      ]
    }
  ]
}