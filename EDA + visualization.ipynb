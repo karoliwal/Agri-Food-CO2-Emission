{
 "cells": [
  {
   "cell_type": "markdown",
   "id": "3b5db312",
   "metadata": {
    "papermill": {
     "duration": 0.006089,
     "end_time": "2023-08-27T05:07:01.726332",
     "exception": false,
     "start_time": "2023-08-27T05:07:01.720243",
     "status": "completed"
    },
    "tags": []
   },
   "source": [
    "# Exploratory Data Analysis"
   ]
  },
  {
   "cell_type": "markdown",
   "id": "9dc2953b",
   "metadata": {
    "papermill": {
     "duration": 0.00506,
     "end_time": "2023-08-27T05:07:01.737139",
     "exception": false,
     "start_time": "2023-08-27T05:07:01.732079",
     "status": "completed"
    },
    "tags": []
   },
   "source": [
    "## Importing libraries"
   ]
  },
  {
   "cell_type": "code",
   "execution_count": null,
   "id": "86712c3d",
   "metadata": {
    "_cell_guid": "b1076dfc-b9ad-4769-8c92-a6c4dae69d19",
    "_uuid": "8f2839f25d086af736a60e9eeb907d3b93b6e0e5",
    "execution": {
     "iopub.execute_input": "2023-08-27T05:07:01.750270Z",
     "iopub.status.busy": "2023-08-27T05:07:01.749815Z",
     "iopub.status.idle": "2023-08-27T05:07:01.768265Z",
     "shell.execute_reply": "2023-08-27T05:07:01.766857Z"
    },
    "papermill": {
     "duration": 0.028149,
     "end_time": "2023-08-27T05:07:01.770564",
     "exception": false,
     "start_time": "2023-08-27T05:07:01.742415",
     "status": "completed"
    },
    "tags": []
   },
   "outputs": [],
   "source": [
    "import numpy as np\n",
    "import pandas as pd\n",
    "import os"
   ]
  },
  {
   "cell_type": "code",
   "execution_count": null,
   "id": "322fb606",
   "metadata": {
    "execution": {
     "iopub.execute_input": "2023-08-27T05:07:01.783602Z",
     "iopub.status.busy": "2023-08-27T05:07:01.783206Z",
     "iopub.status.idle": "2023-08-27T05:07:03.263764Z",
     "shell.execute_reply": "2023-08-27T05:07:03.262685Z"
    },
    "papermill": {
     "duration": 1.490221,
     "end_time": "2023-08-27T05:07:03.266592",
     "exception": false,
     "start_time": "2023-08-27T05:07:01.776371",
     "status": "completed"
    },
    "tags": []
   },
   "outputs": [],
   "source": [
    "import matplotlib.pyplot as plt\n",
    "import seaborn as sns\n",
    "%matplotlib inline\n",
    "\n",
    "import warnings\n",
    "warnings.filterwarnings('ignore')"
   ]
  },
  {
   "cell_type": "markdown",
   "id": "802f88b8",
   "metadata": {
    "papermill": {
     "duration": 0.005679,
     "end_time": "2023-08-27T05:07:03.278390",
     "exception": false,
     "start_time": "2023-08-27T05:07:03.272711",
     "status": "completed"
    },
    "tags": []
   },
   "source": [
    "---"
   ]
  },
  {
   "cell_type": "markdown",
   "id": "aa59e4a3",
   "metadata": {
    "papermill": {
     "duration": 0.005759,
     "end_time": "2023-08-27T05:07:03.290049",
     "exception": false,
     "start_time": "2023-08-27T05:07:03.284290",
     "status": "completed"
    },
    "tags": []
   },
   "source": [
    "## Reading data as CSV"
   ]
  },
  {
   "cell_type": "code",
   "execution_count": null,
   "id": "d15be27c",
   "metadata": {
    "execution": {
     "iopub.execute_input": "2023-08-27T05:07:03.305650Z",
     "iopub.status.busy": "2023-08-27T05:07:03.305203Z",
     "iopub.status.idle": "2023-08-27T05:07:03.399660Z",
     "shell.execute_reply": "2023-08-27T05:07:03.398475Z"
    },
    "papermill": {
     "duration": 0.105953,
     "end_time": "2023-08-27T05:07:03.402236",
     "exception": false,
     "start_time": "2023-08-27T05:07:03.296283",
     "status": "completed"
    },
    "tags": []
   },
   "outputs": [],
   "source": [
    "df=pd.read_csv(\"Agrofood_co2_emission.csv\")"
   ]
  },
  {
   "cell_type": "markdown",
   "id": "3976c8ca",
   "metadata": {
    "papermill": {
     "duration": 0.00557,
     "end_time": "2023-08-27T05:07:03.413795",
     "exception": false,
     "start_time": "2023-08-27T05:07:03.408225",
     "status": "completed"
    },
    "tags": []
   },
   "source": [
    "---"
   ]
  },
  {
   "cell_type": "markdown",
   "id": "46c660c9",
   "metadata": {
    "papermill": {
     "duration": 0.005492,
     "end_time": "2023-08-27T05:07:03.425177",
     "exception": false,
     "start_time": "2023-08-27T05:07:03.419685",
     "status": "completed"
    },
    "tags": []
   },
   "source": [
    "## Basic data description"
   ]
  },
  {
   "cell_type": "code",
   "execution_count": null,
   "id": "bc8700cf",
   "metadata": {
    "execution": {
     "iopub.execute_input": "2023-08-27T05:07:03.439257Z",
     "iopub.status.busy": "2023-08-27T05:07:03.438786Z",
     "iopub.status.idle": "2023-08-27T05:07:03.485023Z",
     "shell.execute_reply": "2023-08-27T05:07:03.483692Z"
    },
    "papermill": {
     "duration": 0.056424,
     "end_time": "2023-08-27T05:07:03.487583",
     "exception": false,
     "start_time": "2023-08-27T05:07:03.431159",
     "status": "completed"
    },
    "tags": []
   },
   "outputs": [],
   "source": [
    "df.head()"
   ]
  },
  {
   "cell_type": "code",
   "execution_count": null,
   "id": "b80b24e7",
   "metadata": {
    "execution": {
     "iopub.execute_input": "2023-08-27T05:07:03.503572Z",
     "iopub.status.busy": "2023-08-27T05:07:03.503198Z",
     "iopub.status.idle": "2023-08-27T05:07:03.535998Z",
     "shell.execute_reply": "2023-08-27T05:07:03.534691Z"
    },
    "papermill": {
     "duration": 0.043498,
     "end_time": "2023-08-27T05:07:03.538951",
     "exception": false,
     "start_time": "2023-08-27T05:07:03.495453",
     "status": "completed"
    },
    "tags": []
   },
   "outputs": [],
   "source": [
    "df.info()"
   ]
  },
  {
   "cell_type": "markdown",
   "id": "dc9b8497",
   "metadata": {
    "papermill": {
     "duration": 0.006654,
     "end_time": "2023-08-27T05:07:03.552726",
     "exception": false,
     "start_time": "2023-08-27T05:07:03.546072",
     "status": "completed"
    },
    "tags": []
   },
   "source": [
    "Here we noticed that in some particular fields there are a lot of NA values. While processing the data we must take in to consideration whether to impute the values or to drop the NA values."
   ]
  },
  {
   "cell_type": "code",
   "execution_count": null,
   "id": "2c380705",
   "metadata": {
    "execution": {
     "iopub.execute_input": "2023-08-27T05:07:03.568822Z",
     "iopub.status.busy": "2023-08-27T05:07:03.567547Z",
     "iopub.status.idle": "2023-08-27T05:07:03.683317Z",
     "shell.execute_reply": "2023-08-27T05:07:03.681916Z"
    },
    "papermill": {
     "duration": 0.126586,
     "end_time": "2023-08-27T05:07:03.686119",
     "exception": false,
     "start_time": "2023-08-27T05:07:03.559533",
     "status": "completed"
    },
    "tags": []
   },
   "outputs": [],
   "source": [
    "df.describe().T"
   ]
  },
  {
   "cell_type": "markdown",
   "id": "113b3b09",
   "metadata": {
    "papermill": {
     "duration": 0.007752,
     "end_time": "2023-08-27T05:07:03.702372",
     "exception": false,
     "start_time": "2023-08-27T05:07:03.694620",
     "status": "completed"
    },
    "tags": []
   },
   "source": [
    "---"
   ]
  },
  {
   "cell_type": "markdown",
   "id": "a4acfc00",
   "metadata": {
    "papermill": {
     "duration": 0.007486,
     "end_time": "2023-08-27T05:07:03.717808",
     "exception": false,
     "start_time": "2023-08-27T05:07:03.710322",
     "status": "completed"
    },
    "tags": []
   },
   "source": [
    "# Visualization and Plotting"
   ]
  },
  {
   "cell_type": "code",
   "execution_count": null,
   "id": "010d9b49",
   "metadata": {
    "execution": {
     "iopub.execute_input": "2023-08-27T05:07:03.736211Z",
     "iopub.status.busy": "2023-08-27T05:07:03.735775Z",
     "iopub.status.idle": "2023-08-27T05:07:07.152644Z",
     "shell.execute_reply": "2023-08-27T05:07:07.151672Z"
    },
    "papermill": {
     "duration": 3.435088,
     "end_time": "2023-08-27T05:07:07.160977",
     "exception": false,
     "start_time": "2023-08-27T05:07:03.725889",
     "status": "completed"
    },
    "tags": []
   },
   "outputs": [],
   "source": [
    "plt.figure(figsize=(12,12))\n",
    "sns.heatmap(df.corr(),annot=True,fmt=\"1.1f\")"
   ]
  },
  {
   "cell_type": "code",
   "execution_count": null,
   "id": "ca19079a",
   "metadata": {
    "execution": {
     "iopub.execute_input": "2023-08-27T05:07:07.197454Z",
     "iopub.status.busy": "2023-08-27T05:07:07.195978Z",
     "iopub.status.idle": "2023-08-27T05:07:07.532043Z",
     "shell.execute_reply": "2023-08-27T05:07:07.531160Z"
    },
    "papermill": {
     "duration": 0.356514,
     "end_time": "2023-08-27T05:07:07.534264",
     "exception": false,
     "start_time": "2023-08-27T05:07:07.177750",
     "status": "completed"
    },
    "tags": []
   },
   "outputs": [],
   "source": [
    "df.groupby('Year')['total_emission'].sum().plot()"
   ]
  },
  {
   "cell_type": "code",
   "execution_count": null,
   "id": "8a9ec8c5",
   "metadata": {
    "execution": {
     "iopub.execute_input": "2023-08-27T05:07:07.568863Z",
     "iopub.status.busy": "2023-08-27T05:07:07.567821Z",
     "iopub.status.idle": "2023-08-27T05:07:07.900987Z",
     "shell.execute_reply": "2023-08-27T05:07:07.899854Z"
    },
    "papermill": {
     "duration": 0.353156,
     "end_time": "2023-08-27T05:07:07.903384",
     "exception": false,
     "start_time": "2023-08-27T05:07:07.550228",
     "status": "completed"
    },
    "tags": []
   },
   "outputs": [],
   "source": [
    "df.groupby('Area')['total_emission'].sum().sort_values(ascending=False).head(10).plot.bar()"
   ]
  },
  {
   "cell_type": "markdown",
   "id": "4e12c08b",
   "metadata": {
    "papermill": {
     "duration": 0.016581,
     "end_time": "2023-08-27T05:07:07.937038",
     "exception": false,
     "start_time": "2023-08-27T05:07:07.920457",
     "status": "completed"
    },
    "tags": []
   },
   "source": [
    "Here we plot the countries with the **highest** total emissions from 1990 to 2020."
   ]
  },
  {
   "cell_type": "code",
   "execution_count": null,
   "id": "5a980f87",
   "metadata": {
    "execution": {
     "iopub.execute_input": "2023-08-27T05:07:07.973211Z",
     "iopub.status.busy": "2023-08-27T05:07:07.972846Z",
     "iopub.status.idle": "2023-08-27T05:07:08.280827Z",
     "shell.execute_reply": "2023-08-27T05:07:08.279474Z"
    },
    "papermill": {
     "duration": 0.329145,
     "end_time": "2023-08-27T05:07:08.283299",
     "exception": false,
     "start_time": "2023-08-27T05:07:07.954154",
     "status": "completed"
    },
    "tags": []
   },
   "outputs": [],
   "source": [
    "df.groupby('Area')['total_emission'].sum().sort_values(ascending=True).head(10).plot.bar()"
   ]
  },
  {
   "cell_type": "markdown",
   "id": "7d63f1c9",
   "metadata": {
    "papermill": {
     "duration": 0.017791,
     "end_time": "2023-08-27T05:07:08.319472",
     "exception": false,
     "start_time": "2023-08-27T05:07:08.301681",
     "status": "completed"
    },
    "tags": []
   },
   "source": [
    "Here we plot the countries with the **lowest** total emissions from 1990 to 2020."
   ]
  }
 ],
 "metadata": {
  "kernelspec": {
   "display_name": "Python 3",
   "language": "python",
   "name": "python3"
  },
  "language_info": {
   "codemirror_mode": {
    "name": "ipython",
    "version": 3
   },
   "file_extension": ".py",
   "mimetype": "text/x-python",
   "name": "python",
   "nbconvert_exporter": "python",
   "pygments_lexer": "ipython3",
   "version": "3.11.3"
  },
  "papermill": {
   "default_parameters": {},
   "duration": 18.925329,
   "end_time": "2023-08-27T05:07:09.466439",
   "environment_variables": {},
   "exception": null,
   "input_path": "__notebook__.ipynb",
   "output_path": "__notebook__.ipynb",
   "parameters": {},
   "start_time": "2023-08-27T05:06:50.541110",
   "version": "2.4.0"
  }
 },
 "nbformat": 4,
 "nbformat_minor": 5
}
